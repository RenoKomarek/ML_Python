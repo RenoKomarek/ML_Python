{
 "cells": [
  {
   "cell_type": "markdown",
   "id": "54364f02",
   "metadata": {},
   "source": [
    "# Import libraries + load data"
   ]
  },
  {
   "cell_type": "code",
   "execution_count": null,
   "id": "34432a97",
   "metadata": {},
   "outputs": [],
   "source": []
  },
  {
   "cell_type": "markdown",
   "id": "2fdb5da4",
   "metadata": {},
   "source": [
    "<div style=\"background-color: lightblue; color: black; padding: 20px; font-size: 24px;\">\n",
    "EDA\n",
    "</div>"
   ]
  },
  {
   "cell_type": "code",
   "execution_count": null,
   "id": "f55f8b18",
   "metadata": {},
   "outputs": [],
   "source": []
  },
  {
   "cell_type": "markdown",
   "id": "9ea03885",
   "metadata": {},
   "source": [
    "<div style=\"background-color: lightblue; color: black; padding: 20px; font-size: 24px;\">\n",
    "Evaluation\n",
    "</div>"
   ]
  },
  {
   "cell_type": "code",
   "execution_count": null,
   "id": "677a8209",
   "metadata": {},
   "outputs": [],
   "source": []
  },
  {
   "cell_type": "markdown",
   "id": "f5a68730",
   "metadata": {},
   "source": [
    "<div style=\"background-color: lightblue; color: black; padding: 20px; font-size: 24px;\">\n",
    "Preprocessing (Drop irrelevant columns and remove outliers here + normalize)\n",
    "</div>"
   ]
  },
  {
   "cell_type": "code",
   "execution_count": null,
   "id": "f3bbdae3",
   "metadata": {},
   "outputs": [],
   "source": [
    "# drop cols"
   ]
  },
  {
   "cell_type": "code",
   "execution_count": 2,
   "id": "43dc9c15",
   "metadata": {},
   "outputs": [],
   "source": [
    "# remove outliers"
   ]
  },
  {
   "cell_type": "code",
   "execution_count": 3,
   "id": "83ddc4a3",
   "metadata": {},
   "outputs": [],
   "source": [
    "# normalize"
   ]
  },
  {
   "cell_type": "markdown",
   "id": "d3ba4a00",
   "metadata": {},
   "source": [
    "<div style=\"background-color: lightblue; color: black; padding: 20px; font-size: 24px;\">\n",
    "Modelling\n",
    "</div>"
   ]
  },
  {
   "cell_type": "code",
   "execution_count": null,
   "id": "9d8c5d20",
   "metadata": {},
   "outputs": [],
   "source": [
    "# train test split here"
   ]
  },
  {
   "cell_type": "markdown",
   "id": "6deac79f",
   "metadata": {},
   "source": [
    "<div style=\"background-color: lightcoral; color: black; padding: 20px; font-size: 24px;\">\n",
    "K-Nearest Neighbors\n",
    "</div>"
   ]
  },
  {
   "cell_type": "markdown",
   "id": "f0f70382",
   "metadata": {},
   "source": [
    "### explanation of model here"
   ]
  },
  {
   "cell_type": "code",
   "execution_count": 3,
   "id": "752215cc",
   "metadata": {},
   "outputs": [],
   "source": [
    "# code here"
   ]
  },
  {
   "cell_type": "code",
   "execution_count": null,
   "id": "4a21cd78",
   "metadata": {},
   "outputs": [],
   "source": [
    "# performance evaluation here"
   ]
  },
  {
   "cell_type": "markdown",
   "id": "80fcb33d",
   "metadata": {},
   "source": [
    "<div style=\"background-color: lightcoral; color: black; padding: 20px; font-size: 24px;\">\n",
    "Logistic Regression\n",
    "</div>"
   ]
  },
  {
   "cell_type": "markdown",
   "id": "82bb7b1c",
   "metadata": {},
   "source": [
    "### explanation of model here"
   ]
  },
  {
   "cell_type": "code",
   "execution_count": 7,
   "id": "716e0bc0",
   "metadata": {},
   "outputs": [],
   "source": [
    "# code here"
   ]
  },
  {
   "cell_type": "code",
   "execution_count": 8,
   "id": "7308a252",
   "metadata": {},
   "outputs": [],
   "source": [
    "# performance evaluation here"
   ]
  },
  {
   "cell_type": "markdown",
   "id": "ab9fd2b1",
   "metadata": {},
   "source": [
    "<div style=\"background-color: lightcoral; color: black; padding: 20px; font-size: 24px;\">\n",
    "SVM\n",
    "</div>"
   ]
  },
  {
   "cell_type": "markdown",
   "id": "c70f746a",
   "metadata": {},
   "source": [
    "### explanation of model here"
   ]
  },
  {
   "cell_type": "code",
   "execution_count": 9,
   "id": "06bd5ce4",
   "metadata": {},
   "outputs": [],
   "source": [
    "# code here"
   ]
  },
  {
   "cell_type": "code",
   "execution_count": 10,
   "id": "d55b6cc2",
   "metadata": {},
   "outputs": [],
   "source": [
    "# performance evaluation here"
   ]
  },
  {
   "cell_type": "markdown",
   "id": "e12fa723",
   "metadata": {},
   "source": [
    "<div style=\"background-color: lightcoral; color: black; padding: 20px; font-size: 24px;\">\n",
    "Decision Tree\n",
    "</div>"
   ]
  },
  {
   "cell_type": "markdown",
   "id": "0507a5e0",
   "metadata": {},
   "source": [
    "### explanation of model here"
   ]
  },
  {
   "cell_type": "code",
   "execution_count": null,
   "id": "a9c22386",
   "metadata": {},
   "outputs": [],
   "source": [
    "# code here"
   ]
  },
  {
   "cell_type": "code",
   "execution_count": null,
   "id": "f15a014a",
   "metadata": {},
   "outputs": [],
   "source": [
    "# performance evaluation here"
   ]
  },
  {
   "cell_type": "markdown",
   "id": "15c47fd5",
   "metadata": {},
   "source": [
    "<div style=\"background-color: lightcoral; color: black; padding: 20px; font-size: 24px;\">\n",
    "Ensembles (Random Forest, Gradient Boosted Boosted Decistion Trees en XGboost</div>"
   ]
  },
  {
   "cell_type": "markdown",
   "id": "bae98b23",
   "metadata": {},
   "source": [
    "### explanation of model here"
   ]
  },
  {
   "cell_type": "code",
   "execution_count": null,
   "id": "be309bd0",
   "metadata": {},
   "outputs": [],
   "source": [
    "# code here"
   ]
  },
  {
   "cell_type": "code",
   "execution_count": null,
   "id": "93d2a5d5",
   "metadata": {},
   "outputs": [],
   "source": [
    "# performance evaluation here"
   ]
  },
  {
   "cell_type": "markdown",
   "id": "693c3783",
   "metadata": {},
   "source": [
    "<div style=\"background-color: lightcoral; color: black; padding: 20px; font-size: 24px;\">\n",
    "Custom Ensemble\n",
    "</div>"
   ]
  },
  {
   "cell_type": "markdown",
   "id": "11fe46e1",
   "metadata": {},
   "source": [
    "### explanation of model here"
   ]
  },
  {
   "cell_type": "code",
   "execution_count": 11,
   "id": "63ef9a5c",
   "metadata": {},
   "outputs": [],
   "source": [
    "# code here"
   ]
  },
  {
   "cell_type": "code",
   "execution_count": null,
   "id": "2ead989a",
   "metadata": {},
   "outputs": [],
   "source": [
    "# performance evaluation here"
   ]
  },
  {
   "cell_type": "markdown",
   "id": "7b826ec4",
   "metadata": {},
   "source": [
    "<div style=\"background-color: lightblue; color: black; padding: 20px; font-size: 24px;\">\n",
    "Conclusion</div>"
   ]
  },
  {
   "cell_type": "code",
   "execution_count": null,
   "id": "8524da1d",
   "metadata": {},
   "outputs": [],
   "source": [
    "# code of all model performances using the same scoring method to compare, display in a dataframe index=model, col=score"
   ]
  },
  {
   "cell_type": "markdown",
   "id": "7c9580e1",
   "metadata": {},
   "source": [
    "### explain best model"
   ]
  },
  {
   "cell_type": "code",
   "execution_count": 12,
   "id": "b580b661",
   "metadata": {},
   "outputs": [],
   "source": [
    "# code of best model on testset, to get predictions to upload on Kaggle"
   ]
  }
 ],
 "metadata": {
  "kernelspec": {
   "display_name": "base",
   "language": "python",
   "name": "python3"
  },
  "language_info": {
   "codemirror_mode": {
    "name": "ipython",
    "version": 3
   },
   "file_extension": ".py",
   "mimetype": "text/x-python",
   "name": "python",
   "nbconvert_exporter": "python",
   "pygments_lexer": "ipython3",
   "version": "3.11.4"
  }
 },
 "nbformat": 4,
 "nbformat_minor": 5
}
