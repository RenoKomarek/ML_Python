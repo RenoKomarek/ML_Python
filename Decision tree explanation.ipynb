{
 "cells": [
  {
   "cell_type": "markdown",
   "id": "1fc9cf7e",
   "metadata": {},
   "source": [
    "Sumpup some possible factors to consider,\n",
    "eventually it comes down to complexity. Depending on how complex your data is.\n",
    "It should also be explainable.\n",
    "A good balance between not to complex and complex enough has to be found.\n",
    "\n",
    "Conclusion\n",
    "    - formulate other considerations\n",
    "    - "
   ]
  }
 ],
 "metadata": {
  "kernelspec": {
   "display_name": "Python 3 (ipykernel)",
   "language": "python",
   "name": "python3"
  },
  "language_info": {
   "codemirror_mode": {
    "name": "ipython",
    "version": 3
   },
   "file_extension": ".py",
   "mimetype": "text/x-python",
   "name": "python",
   "nbconvert_exporter": "python",
   "pygments_lexer": "ipython3",
   "version": "3.11.4"
  }
 },
 "nbformat": 4,
 "nbformat_minor": 5
}
